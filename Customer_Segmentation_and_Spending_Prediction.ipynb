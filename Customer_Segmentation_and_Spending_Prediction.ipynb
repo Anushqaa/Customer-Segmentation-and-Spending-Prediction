{
  "cells": [
    {
      "cell_type": "markdown",
      "source": [
        "# **Customer Segmentation and Spending Prediction**"
      ],
      "metadata": {
        "id": "wKhStCcnJWq1"
      }
    },
    {
      "cell_type": "markdown",
      "source": [
        "Welcome to my project for customer segmentation and spending prediction! In this project, I will walk you through the entire process, from data preparation and exploration to building machine learning models. So, let's dive in!"
      ],
      "metadata": {
        "id": "8LEIRgZqJa3U"
      }
    },
    {
      "cell_type": "markdown",
      "source": [
        "## Data Preparation and Setup\n",
        "First, we need to set up our environment and acquire the dataset. Here are the steps:"
      ],
      "metadata": {
        "id": "JOJhtmBiJeFT"
      }
    },
    {
      "cell_type": "markdown",
      "source": [
        "### Install Kaggle and Configure API Credentials"
      ],
      "metadata": {
        "id": "gOzpB0leJhFe"
      }
    },
    {
      "cell_type": "code",
      "execution_count": null,
      "metadata": {
        "colab": {
          "background_save": true
        },
        "id": "iKDxK6W8dgJP",
        "outputId": "5d9f7609-4582-4312-a9bd-9eb1820438c3"
      },
      "outputs": [
        {
          "name": "stdout",
          "output_type": "stream",
          "text": [
            "Requirement already satisfied: kaggle in /usr/local/lib/python3.10/dist-packages (1.5.16)\n",
            "Requirement already satisfied: six>=1.10 in /usr/local/lib/python3.10/dist-packages (from kaggle) (1.16.0)\n",
            "Requirement already satisfied: certifi in /usr/local/lib/python3.10/dist-packages (from kaggle) (2023.7.22)\n",
            "Requirement already satisfied: python-dateutil in /usr/local/lib/python3.10/dist-packages (from kaggle) (2.8.2)\n",
            "Requirement already satisfied: requests in /usr/local/lib/python3.10/dist-packages (from kaggle) (2.31.0)\n",
            "Requirement already satisfied: tqdm in /usr/local/lib/python3.10/dist-packages (from kaggle) (4.66.0)\n",
            "Requirement already satisfied: python-slugify in /usr/local/lib/python3.10/dist-packages (from kaggle) (8.0.1)\n",
            "Requirement already satisfied: urllib3 in /usr/local/lib/python3.10/dist-packages (from kaggle) (2.0.4)\n",
            "Requirement already satisfied: bleach in /usr/local/lib/python3.10/dist-packages (from kaggle) (6.0.0)\n",
            "Requirement already satisfied: webencodings in /usr/local/lib/python3.10/dist-packages (from bleach->kaggle) (0.5.1)\n",
            "Requirement already satisfied: text-unidecode>=1.3 in /usr/local/lib/python3.10/dist-packages (from python-slugify->kaggle) (1.3)\n",
            "Requirement already satisfied: charset-normalizer<4,>=2 in /usr/local/lib/python3.10/dist-packages (from requests->kaggle) (3.2.0)\n",
            "Requirement already satisfied: idna<4,>=2.5 in /usr/local/lib/python3.10/dist-packages (from requests->kaggle) (3.4)\n"
          ]
        }
      ],
      "source": [
        "! pip install kaggle"
      ]
    },
    {
      "cell_type": "code",
      "execution_count": null,
      "metadata": {
        "colab": {
          "background_save": true
        },
        "id": "VQlOiQw4dilI",
        "outputId": "b100d418-57c0-4be4-b73e-39ba636f7896"
      },
      "outputs": [
        {
          "name": "stdout",
          "output_type": "stream",
          "text": [
            "mkdir: cannot create directory ‘/root/.kaggle’: File exists\n"
          ]
        }
      ],
      "source": [
        "! mkdir ~/.kaggle"
      ]
    },
    {
      "cell_type": "code",
      "execution_count": null,
      "metadata": {
        "colab": {
          "background_save": true
        },
        "id": "ELAE1CRKdl62"
      },
      "outputs": [],
      "source": [
        "! cp kaggle.json ~/.kaggle/"
      ]
    },
    {
      "cell_type": "code",
      "execution_count": null,
      "metadata": {
        "colab": {
          "background_save": true
        },
        "id": "XEbj2qywduxi"
      },
      "outputs": [],
      "source": [
        "! chmod 600 ~/.kaggle/kaggle.json"
      ]
    },
    {
      "cell_type": "markdown",
      "source": [
        "### Download the Dataset\n",
        "We will download the \"Customers Dataset\" from Kaggle:"
      ],
      "metadata": {
        "id": "S-sEdgB2JsjF"
      }
    },
    {
      "cell_type": "code",
      "execution_count": null,
      "metadata": {
        "colab": {
          "background_save": true
        },
        "id": "xzS4nk3Zd0ev",
        "outputId": "d2ebec17-94af-4a53-f73f-a09566d87ed9"
      },
      "outputs": [
        {
          "name": "stdout",
          "output_type": "stream",
          "text": [
            "Downloading customers-dataset.zip to /content\n",
            "\r  0% 0.00/23.2k [00:00<?, ?B/s]\n",
            "\r100% 23.2k/23.2k [00:00<00:00, 29.0MB/s]\n"
          ]
        }
      ],
      "source": [
        "! kaggle datasets download -d datascientistanna/customers-dataset"
      ]
    },
    {
      "cell_type": "markdown",
      "source": [
        "### Unzip the Dataset\n",
        "Unzip the downloaded dataset:"
      ],
      "metadata": {
        "id": "4BSSDk5NJxWR"
      }
    },
    {
      "cell_type": "code",
      "execution_count": null,
      "metadata": {
        "colab": {
          "background_save": true
        },
        "id": "ZzpP35l0d4c3",
        "outputId": "f2797365-868f-4d3f-be56-7b004936359f"
      },
      "outputs": [
        {
          "name": "stdout",
          "output_type": "stream",
          "text": [
            "Archive:  customers-dataset.zip\n",
            "  inflating: Customers.csv           \n"
          ]
        }
      ],
      "source": [
        "! unzip customers-dataset"
      ]
    },
    {
      "cell_type": "code",
      "execution_count": null,
      "metadata": {
        "colab": {
          "background_save": true
        },
        "id": "4a2n16_Fd-Nt"
      },
      "outputs": [],
      "source": [
        "! rm customers-dataset.zip"
      ]
    },
    {
      "cell_type": "markdown",
      "source": [
        "Now that we have our data, let's proceed with the project."
      ],
      "metadata": {
        "id": "6tMdZ1ZZJzjS"
      }
    },
    {
      "cell_type": "markdown",
      "source": [
        "## Data Exploration\n",
        "Let's begin by exploring our dataset. We will load it into a Pandas DataFrame and take a look at the first few rows to get an overview."
      ],
      "metadata": {
        "id": "qjfoS1iVJ3O9"
      }
    },
    {
      "cell_type": "code",
      "execution_count": null,
      "metadata": {
        "colab": {
          "background_save": true
        },
        "id": "PzBxW0dteEfe"
      },
      "outputs": [],
      "source": [
        "import numpy as np\n",
        "import pandas as pd\n",
        "import matplotlib.pyplot as plt\n",
        "import seaborn as sns\n",
        "from math import sqrt"
      ]
    },
    {
      "cell_type": "code",
      "execution_count": null,
      "metadata": {
        "colab": {
          "background_save": true
        },
        "id": "3urdOsTLjsJz"
      },
      "outputs": [],
      "source": [
        "from sklearn.impute import SimpleImputer\n",
        "from sklearn.model_selection import train_test_split\n",
        "from sklearn.preprocessing import LabelEncoder\n",
        "from sklearn.metrics import mean_squared_error"
      ]
    },
    {
      "cell_type": "code",
      "execution_count": null,
      "metadata": {
        "colab": {
          "background_save": true
        },
        "id": "msCMbDm5eN6x",
        "outputId": "62d3b54f-c675-4243-a46e-4626bc169ea4"
      },
      "outputs": [
        {
          "data": {
            "text/html": [
              "\n",
              "\n",
              "  <div id=\"df-77563d78-26a8-4fcf-a1aa-33a32fc225f6\">\n",
              "    <div class=\"colab-df-container\">\n",
              "      <div>\n",
              "<style scoped>\n",
              "    .dataframe tbody tr th:only-of-type {\n",
              "        vertical-align: middle;\n",
              "    }\n",
              "\n",
              "    .dataframe tbody tr th {\n",
              "        vertical-align: top;\n",
              "    }\n",
              "\n",
              "    .dataframe thead th {\n",
              "        text-align: right;\n",
              "    }\n",
              "</style>\n",
              "<table border=\"1\" class=\"dataframe\">\n",
              "  <thead>\n",
              "    <tr style=\"text-align: right;\">\n",
              "      <th></th>\n",
              "      <th>CustomerID</th>\n",
              "      <th>Gender</th>\n",
              "      <th>Age</th>\n",
              "      <th>Annual Income ($)</th>\n",
              "      <th>Spending Score (1-100)</th>\n",
              "      <th>Profession</th>\n",
              "      <th>Work Experience</th>\n",
              "      <th>Family Size</th>\n",
              "    </tr>\n",
              "  </thead>\n",
              "  <tbody>\n",
              "    <tr>\n",
              "      <th>0</th>\n",
              "      <td>1</td>\n",
              "      <td>Male</td>\n",
              "      <td>19</td>\n",
              "      <td>15000</td>\n",
              "      <td>39</td>\n",
              "      <td>Healthcare</td>\n",
              "      <td>1</td>\n",
              "      <td>4</td>\n",
              "    </tr>\n",
              "    <tr>\n",
              "      <th>1</th>\n",
              "      <td>2</td>\n",
              "      <td>Male</td>\n",
              "      <td>21</td>\n",
              "      <td>35000</td>\n",
              "      <td>81</td>\n",
              "      <td>Engineer</td>\n",
              "      <td>3</td>\n",
              "      <td>3</td>\n",
              "    </tr>\n",
              "    <tr>\n",
              "      <th>2</th>\n",
              "      <td>3</td>\n",
              "      <td>Female</td>\n",
              "      <td>20</td>\n",
              "      <td>86000</td>\n",
              "      <td>6</td>\n",
              "      <td>Engineer</td>\n",
              "      <td>1</td>\n",
              "      <td>1</td>\n",
              "    </tr>\n",
              "    <tr>\n",
              "      <th>3</th>\n",
              "      <td>4</td>\n",
              "      <td>Female</td>\n",
              "      <td>23</td>\n",
              "      <td>59000</td>\n",
              "      <td>77</td>\n",
              "      <td>Lawyer</td>\n",
              "      <td>0</td>\n",
              "      <td>2</td>\n",
              "    </tr>\n",
              "    <tr>\n",
              "      <th>4</th>\n",
              "      <td>5</td>\n",
              "      <td>Female</td>\n",
              "      <td>31</td>\n",
              "      <td>38000</td>\n",
              "      <td>40</td>\n",
              "      <td>Entertainment</td>\n",
              "      <td>2</td>\n",
              "      <td>6</td>\n",
              "    </tr>\n",
              "  </tbody>\n",
              "</table>\n",
              "</div>\n",
              "      <button class=\"colab-df-convert\" onclick=\"convertToInteractive('df-77563d78-26a8-4fcf-a1aa-33a32fc225f6')\"\n",
              "              title=\"Convert this dataframe to an interactive table.\"\n",
              "              style=\"display:none;\">\n",
              "\n",
              "  <svg xmlns=\"http://www.w3.org/2000/svg\" height=\"24px\"viewBox=\"0 0 24 24\"\n",
              "       width=\"24px\">\n",
              "    <path d=\"M0 0h24v24H0V0z\" fill=\"none\"/>\n",
              "    <path d=\"M18.56 5.44l.94 2.06.94-2.06 2.06-.94-2.06-.94-.94-2.06-.94 2.06-2.06.94zm-11 1L8.5 8.5l.94-2.06 2.06-.94-2.06-.94L8.5 2.5l-.94 2.06-2.06.94zm10 10l.94 2.06.94-2.06 2.06-.94-2.06-.94-.94-2.06-.94 2.06-2.06.94z\"/><path d=\"M17.41 7.96l-1.37-1.37c-.4-.4-.92-.59-1.43-.59-.52 0-1.04.2-1.43.59L10.3 9.45l-7.72 7.72c-.78.78-.78 2.05 0 2.83L4 21.41c.39.39.9.59 1.41.59.51 0 1.02-.2 1.41-.59l7.78-7.78 2.81-2.81c.8-.78.8-2.07 0-2.86zM5.41 20L4 18.59l7.72-7.72 1.47 1.35L5.41 20z\"/>\n",
              "  </svg>\n",
              "      </button>\n",
              "\n",
              "\n",
              "\n",
              "    <div id=\"df-3d14c889-93b6-4d89-9e31-d0c338186a3d\">\n",
              "      <button class=\"colab-df-quickchart\" onclick=\"quickchart('df-3d14c889-93b6-4d89-9e31-d0c338186a3d')\"\n",
              "              title=\"Suggest charts.\"\n",
              "              style=\"display:none;\">\n",
              "\n",
              "<svg xmlns=\"http://www.w3.org/2000/svg\" height=\"24px\"viewBox=\"0 0 24 24\"\n",
              "     width=\"24px\">\n",
              "    <g>\n",
              "        <path d=\"M19 3H5c-1.1 0-2 .9-2 2v14c0 1.1.9 2 2 2h14c1.1 0 2-.9 2-2V5c0-1.1-.9-2-2-2zM9 17H7v-7h2v7zm4 0h-2V7h2v10zm4 0h-2v-4h2v4z\"/>\n",
              "    </g>\n",
              "</svg>\n",
              "      </button>\n",
              "    </div>\n",
              "\n",
              "<style>\n",
              "  .colab-df-quickchart {\n",
              "    background-color: #E8F0FE;\n",
              "    border: none;\n",
              "    border-radius: 50%;\n",
              "    cursor: pointer;\n",
              "    display: none;\n",
              "    fill: #1967D2;\n",
              "    height: 32px;\n",
              "    padding: 0 0 0 0;\n",
              "    width: 32px;\n",
              "  }\n",
              "\n",
              "  .colab-df-quickchart:hover {\n",
              "    background-color: #E2EBFA;\n",
              "    box-shadow: 0px 1px 2px rgba(60, 64, 67, 0.3), 0px 1px 3px 1px rgba(60, 64, 67, 0.15);\n",
              "    fill: #174EA6;\n",
              "  }\n",
              "\n",
              "  [theme=dark] .colab-df-quickchart {\n",
              "    background-color: #3B4455;\n",
              "    fill: #D2E3FC;\n",
              "  }\n",
              "\n",
              "  [theme=dark] .colab-df-quickchart:hover {\n",
              "    background-color: #434B5C;\n",
              "    box-shadow: 0px 1px 3px 1px rgba(0, 0, 0, 0.15);\n",
              "    filter: drop-shadow(0px 1px 2px rgba(0, 0, 0, 0.3));\n",
              "    fill: #FFFFFF;\n",
              "  }\n",
              "</style>\n",
              "\n",
              "    <script>\n",
              "      async function quickchart(key) {\n",
              "        const containerElement = document.querySelector('#' + key);\n",
              "        const charts = await google.colab.kernel.invokeFunction(\n",
              "            'suggestCharts', [key], {});\n",
              "      }\n",
              "    </script>\n",
              "\n",
              "      <script>\n",
              "\n",
              "function displayQuickchartButton(domScope) {\n",
              "  let quickchartButtonEl =\n",
              "    domScope.querySelector('#df-3d14c889-93b6-4d89-9e31-d0c338186a3d button.colab-df-quickchart');\n",
              "  quickchartButtonEl.style.display =\n",
              "    google.colab.kernel.accessAllowed ? 'block' : 'none';\n",
              "}\n",
              "\n",
              "        displayQuickchartButton(document);\n",
              "      </script>\n",
              "      <style>\n",
              "    .colab-df-container {\n",
              "      display:flex;\n",
              "      flex-wrap:wrap;\n",
              "      gap: 12px;\n",
              "    }\n",
              "\n",
              "    .colab-df-convert {\n",
              "      background-color: #E8F0FE;\n",
              "      border: none;\n",
              "      border-radius: 50%;\n",
              "      cursor: pointer;\n",
              "      display: none;\n",
              "      fill: #1967D2;\n",
              "      height: 32px;\n",
              "      padding: 0 0 0 0;\n",
              "      width: 32px;\n",
              "    }\n",
              "\n",
              "    .colab-df-convert:hover {\n",
              "      background-color: #E2EBFA;\n",
              "      box-shadow: 0px 1px 2px rgba(60, 64, 67, 0.3), 0px 1px 3px 1px rgba(60, 64, 67, 0.15);\n",
              "      fill: #174EA6;\n",
              "    }\n",
              "\n",
              "    [theme=dark] .colab-df-convert {\n",
              "      background-color: #3B4455;\n",
              "      fill: #D2E3FC;\n",
              "    }\n",
              "\n",
              "    [theme=dark] .colab-df-convert:hover {\n",
              "      background-color: #434B5C;\n",
              "      box-shadow: 0px 1px 3px 1px rgba(0, 0, 0, 0.15);\n",
              "      filter: drop-shadow(0px 1px 2px rgba(0, 0, 0, 0.3));\n",
              "      fill: #FFFFFF;\n",
              "    }\n",
              "  </style>\n",
              "\n",
              "      <script>\n",
              "        const buttonEl =\n",
              "          document.querySelector('#df-77563d78-26a8-4fcf-a1aa-33a32fc225f6 button.colab-df-convert');\n",
              "        buttonEl.style.display =\n",
              "          google.colab.kernel.accessAllowed ? 'block' : 'none';\n",
              "\n",
              "        async function convertToInteractive(key) {\n",
              "          const element = document.querySelector('#df-77563d78-26a8-4fcf-a1aa-33a32fc225f6');\n",
              "          const dataTable =\n",
              "            await google.colab.kernel.invokeFunction('convertToInteractive',\n",
              "                                                     [key], {});\n",
              "          if (!dataTable) return;\n",
              "\n",
              "          const docLinkHtml = 'Like what you see? Visit the ' +\n",
              "            '<a target=\"_blank\" href=https://colab.research.google.com/notebooks/data_table.ipynb>data table notebook</a>'\n",
              "            + ' to learn more about interactive tables.';\n",
              "          element.innerHTML = '';\n",
              "          dataTable['output_type'] = 'display_data';\n",
              "          await google.colab.output.renderOutput(dataTable, element);\n",
              "          const docLink = document.createElement('div');\n",
              "          docLink.innerHTML = docLinkHtml;\n",
              "          element.appendChild(docLink);\n",
              "        }\n",
              "      </script>\n",
              "    </div>\n",
              "  </div>\n"
            ],
            "text/plain": [
              "   CustomerID  Gender  Age  Annual Income ($)  Spending Score (1-100)  \\\n",
              "0           1    Male   19              15000                      39   \n",
              "1           2    Male   21              35000                      81   \n",
              "2           3  Female   20              86000                       6   \n",
              "3           4  Female   23              59000                      77   \n",
              "4           5  Female   31              38000                      40   \n",
              "\n",
              "      Profession  Work Experience  Family Size  \n",
              "0     Healthcare                1            4  \n",
              "1       Engineer                3            3  \n",
              "2       Engineer                1            1  \n",
              "3         Lawyer                0            2  \n",
              "4  Entertainment                2            6  "
            ]
          },
          "execution_count": 21,
          "metadata": {},
          "output_type": "execute_result"
        }
      ],
      "source": [
        "dataset_path = \"/content/Customers.csv\"\n",
        "dataset = pd.read_csv(dataset_path)\n",
        "dataset.head()"
      ]
    },
    {
      "cell_type": "code",
      "execution_count": null,
      "metadata": {
        "colab": {
          "background_save": true
        },
        "id": "7Yn2MKnxecnY",
        "outputId": "a05a719b-985d-4e7f-aad1-e056b9494a44"
      },
      "outputs": [
        {
          "data": {
            "text/html": [
              "\n",
              "\n",
              "  <div id=\"df-62931c87-3d12-4c3d-a990-1f3b8e4a7c48\">\n",
              "    <div class=\"colab-df-container\">\n",
              "      <div>\n",
              "<style scoped>\n",
              "    .dataframe tbody tr th:only-of-type {\n",
              "        vertical-align: middle;\n",
              "    }\n",
              "\n",
              "    .dataframe tbody tr th {\n",
              "        vertical-align: top;\n",
              "    }\n",
              "\n",
              "    .dataframe thead th {\n",
              "        text-align: right;\n",
              "    }\n",
              "</style>\n",
              "<table border=\"1\" class=\"dataframe\">\n",
              "  <thead>\n",
              "    <tr style=\"text-align: right;\">\n",
              "      <th></th>\n",
              "      <th>CustomerID</th>\n",
              "      <th>Age</th>\n",
              "      <th>Annual Income ($)</th>\n",
              "      <th>Spending Score (1-100)</th>\n",
              "      <th>Work Experience</th>\n",
              "      <th>Family Size</th>\n",
              "    </tr>\n",
              "  </thead>\n",
              "  <tbody>\n",
              "    <tr>\n",
              "      <th>count</th>\n",
              "      <td>2000.000000</td>\n",
              "      <td>2000.000000</td>\n",
              "      <td>2000.000000</td>\n",
              "      <td>2000.000000</td>\n",
              "      <td>2000.000000</td>\n",
              "      <td>2000.000000</td>\n",
              "    </tr>\n",
              "    <tr>\n",
              "      <th>mean</th>\n",
              "      <td>1000.500000</td>\n",
              "      <td>48.960000</td>\n",
              "      <td>110731.821500</td>\n",
              "      <td>50.962500</td>\n",
              "      <td>4.102500</td>\n",
              "      <td>3.768500</td>\n",
              "    </tr>\n",
              "    <tr>\n",
              "      <th>std</th>\n",
              "      <td>577.494589</td>\n",
              "      <td>28.429747</td>\n",
              "      <td>45739.536688</td>\n",
              "      <td>27.934661</td>\n",
              "      <td>3.922204</td>\n",
              "      <td>1.970749</td>\n",
              "    </tr>\n",
              "    <tr>\n",
              "      <th>min</th>\n",
              "      <td>1.000000</td>\n",
              "      <td>0.000000</td>\n",
              "      <td>0.000000</td>\n",
              "      <td>0.000000</td>\n",
              "      <td>0.000000</td>\n",
              "      <td>1.000000</td>\n",
              "    </tr>\n",
              "    <tr>\n",
              "      <th>25%</th>\n",
              "      <td>500.750000</td>\n",
              "      <td>25.000000</td>\n",
              "      <td>74572.000000</td>\n",
              "      <td>28.000000</td>\n",
              "      <td>1.000000</td>\n",
              "      <td>2.000000</td>\n",
              "    </tr>\n",
              "    <tr>\n",
              "      <th>50%</th>\n",
              "      <td>1000.500000</td>\n",
              "      <td>48.000000</td>\n",
              "      <td>110045.000000</td>\n",
              "      <td>50.000000</td>\n",
              "      <td>3.000000</td>\n",
              "      <td>4.000000</td>\n",
              "    </tr>\n",
              "    <tr>\n",
              "      <th>75%</th>\n",
              "      <td>1500.250000</td>\n",
              "      <td>73.000000</td>\n",
              "      <td>149092.750000</td>\n",
              "      <td>75.000000</td>\n",
              "      <td>7.000000</td>\n",
              "      <td>5.000000</td>\n",
              "    </tr>\n",
              "    <tr>\n",
              "      <th>max</th>\n",
              "      <td>2000.000000</td>\n",
              "      <td>99.000000</td>\n",
              "      <td>189974.000000</td>\n",
              "      <td>100.000000</td>\n",
              "      <td>17.000000</td>\n",
              "      <td>9.000000</td>\n",
              "    </tr>\n",
              "  </tbody>\n",
              "</table>\n",
              "</div>\n",
              "      <button class=\"colab-df-convert\" onclick=\"convertToInteractive('df-62931c87-3d12-4c3d-a990-1f3b8e4a7c48')\"\n",
              "              title=\"Convert this dataframe to an interactive table.\"\n",
              "              style=\"display:none;\">\n",
              "\n",
              "  <svg xmlns=\"http://www.w3.org/2000/svg\" height=\"24px\"viewBox=\"0 0 24 24\"\n",
              "       width=\"24px\">\n",
              "    <path d=\"M0 0h24v24H0V0z\" fill=\"none\"/>\n",
              "    <path d=\"M18.56 5.44l.94 2.06.94-2.06 2.06-.94-2.06-.94-.94-2.06-.94 2.06-2.06.94zm-11 1L8.5 8.5l.94-2.06 2.06-.94-2.06-.94L8.5 2.5l-.94 2.06-2.06.94zm10 10l.94 2.06.94-2.06 2.06-.94-2.06-.94-.94-2.06-.94 2.06-2.06.94z\"/><path d=\"M17.41 7.96l-1.37-1.37c-.4-.4-.92-.59-1.43-.59-.52 0-1.04.2-1.43.59L10.3 9.45l-7.72 7.72c-.78.78-.78 2.05 0 2.83L4 21.41c.39.39.9.59 1.41.59.51 0 1.02-.2 1.41-.59l7.78-7.78 2.81-2.81c.8-.78.8-2.07 0-2.86zM5.41 20L4 18.59l7.72-7.72 1.47 1.35L5.41 20z\"/>\n",
              "  </svg>\n",
              "      </button>\n",
              "\n",
              "\n",
              "\n",
              "    <div id=\"df-af772dc5-2f26-4355-ae1c-8ac0ee25da5d\">\n",
              "      <button class=\"colab-df-quickchart\" onclick=\"quickchart('df-af772dc5-2f26-4355-ae1c-8ac0ee25da5d')\"\n",
              "              title=\"Suggest charts.\"\n",
              "              style=\"display:none;\">\n",
              "\n",
              "<svg xmlns=\"http://www.w3.org/2000/svg\" height=\"24px\"viewBox=\"0 0 24 24\"\n",
              "     width=\"24px\">\n",
              "    <g>\n",
              "        <path d=\"M19 3H5c-1.1 0-2 .9-2 2v14c0 1.1.9 2 2 2h14c1.1 0 2-.9 2-2V5c0-1.1-.9-2-2-2zM9 17H7v-7h2v7zm4 0h-2V7h2v10zm4 0h-2v-4h2v4z\"/>\n",
              "    </g>\n",
              "</svg>\n",
              "      </button>\n",
              "    </div>\n",
              "\n",
              "<style>\n",
              "  .colab-df-quickchart {\n",
              "    background-color: #E8F0FE;\n",
              "    border: none;\n",
              "    border-radius: 50%;\n",
              "    cursor: pointer;\n",
              "    display: none;\n",
              "    fill: #1967D2;\n",
              "    height: 32px;\n",
              "    padding: 0 0 0 0;\n",
              "    width: 32px;\n",
              "  }\n",
              "\n",
              "  .colab-df-quickchart:hover {\n",
              "    background-color: #E2EBFA;\n",
              "    box-shadow: 0px 1px 2px rgba(60, 64, 67, 0.3), 0px 1px 3px 1px rgba(60, 64, 67, 0.15);\n",
              "    fill: #174EA6;\n",
              "  }\n",
              "\n",
              "  [theme=dark] .colab-df-quickchart {\n",
              "    background-color: #3B4455;\n",
              "    fill: #D2E3FC;\n",
              "  }\n",
              "\n",
              "  [theme=dark] .colab-df-quickchart:hover {\n",
              "    background-color: #434B5C;\n",
              "    box-shadow: 0px 1px 3px 1px rgba(0, 0, 0, 0.15);\n",
              "    filter: drop-shadow(0px 1px 2px rgba(0, 0, 0, 0.3));\n",
              "    fill: #FFFFFF;\n",
              "  }\n",
              "</style>\n",
              "\n",
              "    <script>\n",
              "      async function quickchart(key) {\n",
              "        const containerElement = document.querySelector('#' + key);\n",
              "        const charts = await google.colab.kernel.invokeFunction(\n",
              "            'suggestCharts', [key], {});\n",
              "      }\n",
              "    </script>\n",
              "\n",
              "      <script>\n",
              "\n",
              "function displayQuickchartButton(domScope) {\n",
              "  let quickchartButtonEl =\n",
              "    domScope.querySelector('#df-af772dc5-2f26-4355-ae1c-8ac0ee25da5d button.colab-df-quickchart');\n",
              "  quickchartButtonEl.style.display =\n",
              "    google.colab.kernel.accessAllowed ? 'block' : 'none';\n",
              "}\n",
              "\n",
              "        displayQuickchartButton(document);\n",
              "      </script>\n",
              "      <style>\n",
              "    .colab-df-container {\n",
              "      display:flex;\n",
              "      flex-wrap:wrap;\n",
              "      gap: 12px;\n",
              "    }\n",
              "\n",
              "    .colab-df-convert {\n",
              "      background-color: #E8F0FE;\n",
              "      border: none;\n",
              "      border-radius: 50%;\n",
              "      cursor: pointer;\n",
              "      display: none;\n",
              "      fill: #1967D2;\n",
              "      height: 32px;\n",
              "      padding: 0 0 0 0;\n",
              "      width: 32px;\n",
              "    }\n",
              "\n",
              "    .colab-df-convert:hover {\n",
              "      background-color: #E2EBFA;\n",
              "      box-shadow: 0px 1px 2px rgba(60, 64, 67, 0.3), 0px 1px 3px 1px rgba(60, 64, 67, 0.15);\n",
              "      fill: #174EA6;\n",
              "    }\n",
              "\n",
              "    [theme=dark] .colab-df-convert {\n",
              "      background-color: #3B4455;\n",
              "      fill: #D2E3FC;\n",
              "    }\n",
              "\n",
              "    [theme=dark] .colab-df-convert:hover {\n",
              "      background-color: #434B5C;\n",
              "      box-shadow: 0px 1px 3px 1px rgba(0, 0, 0, 0.15);\n",
              "      filter: drop-shadow(0px 1px 2px rgba(0, 0, 0, 0.3));\n",
              "      fill: #FFFFFF;\n",
              "    }\n",
              "  </style>\n",
              "\n",
              "      <script>\n",
              "        const buttonEl =\n",
              "          document.querySelector('#df-62931c87-3d12-4c3d-a990-1f3b8e4a7c48 button.colab-df-convert');\n",
              "        buttonEl.style.display =\n",
              "          google.colab.kernel.accessAllowed ? 'block' : 'none';\n",
              "\n",
              "        async function convertToInteractive(key) {\n",
              "          const element = document.querySelector('#df-62931c87-3d12-4c3d-a990-1f3b8e4a7c48');\n",
              "          const dataTable =\n",
              "            await google.colab.kernel.invokeFunction('convertToInteractive',\n",
              "                                                     [key], {});\n",
              "          if (!dataTable) return;\n",
              "\n",
              "          const docLinkHtml = 'Like what you see? Visit the ' +\n",
              "            '<a target=\"_blank\" href=https://colab.research.google.com/notebooks/data_table.ipynb>data table notebook</a>'\n",
              "            + ' to learn more about interactive tables.';\n",
              "          element.innerHTML = '';\n",
              "          dataTable['output_type'] = 'display_data';\n",
              "          await google.colab.output.renderOutput(dataTable, element);\n",
              "          const docLink = document.createElement('div');\n",
              "          docLink.innerHTML = docLinkHtml;\n",
              "          element.appendChild(docLink);\n",
              "        }\n",
              "      </script>\n",
              "    </div>\n",
              "  </div>\n"
            ],
            "text/plain": [
              "        CustomerID          Age  Annual Income ($)  Spending Score (1-100)  \\\n",
              "count  2000.000000  2000.000000        2000.000000             2000.000000   \n",
              "mean   1000.500000    48.960000      110731.821500               50.962500   \n",
              "std     577.494589    28.429747       45739.536688               27.934661   \n",
              "min       1.000000     0.000000           0.000000                0.000000   \n",
              "25%     500.750000    25.000000       74572.000000               28.000000   \n",
              "50%    1000.500000    48.000000      110045.000000               50.000000   \n",
              "75%    1500.250000    73.000000      149092.750000               75.000000   \n",
              "max    2000.000000    99.000000      189974.000000              100.000000   \n",
              "\n",
              "       Work Experience  Family Size  \n",
              "count      2000.000000  2000.000000  \n",
              "mean          4.102500     3.768500  \n",
              "std           3.922204     1.970749  \n",
              "min           0.000000     1.000000  \n",
              "25%           1.000000     2.000000  \n",
              "50%           3.000000     4.000000  \n",
              "75%           7.000000     5.000000  \n",
              "max          17.000000     9.000000  "
            ]
          },
          "execution_count": 22,
          "metadata": {},
          "output_type": "execute_result"
        }
      ],
      "source": [
        "dataset.describe()"
      ]
    },
    {
      "cell_type": "code",
      "execution_count": null,
      "metadata": {
        "colab": {
          "background_save": true
        },
        "id": "UKadEjOzeiDf",
        "outputId": "bf686877-9861-42ee-9adf-28a9cedc7294"
      },
      "outputs": [
        {
          "name": "stdout",
          "output_type": "stream",
          "text": [
            "<class 'pandas.core.frame.DataFrame'>\n",
            "RangeIndex: 2000 entries, 0 to 1999\n",
            "Data columns (total 8 columns):\n",
            " #   Column                  Non-Null Count  Dtype \n",
            "---  ------                  --------------  ----- \n",
            " 0   CustomerID              2000 non-null   int64 \n",
            " 1   Gender                  2000 non-null   object\n",
            " 2   Age                     2000 non-null   int64 \n",
            " 3   Annual Income ($)       2000 non-null   int64 \n",
            " 4   Spending Score (1-100)  2000 non-null   int64 \n",
            " 5   Profession              1965 non-null   object\n",
            " 6   Work Experience         2000 non-null   int64 \n",
            " 7   Family Size             2000 non-null   int64 \n",
            "dtypes: int64(6), object(2)\n",
            "memory usage: 125.1+ KB\n"
          ]
        }
      ],
      "source": [
        "dataset.info()"
      ]
    },
    {
      "cell_type": "markdown",
      "source": [
        "## Data Preprocessing\n",
        "Data preprocessing is essential to clean and prepare our dataset for analysis. We will handle missing values and encode categorical variables. Here's a snippet of our preprocessing steps:"
      ],
      "metadata": {
        "id": "6IbUWXU1J_fT"
      }
    },
    {
      "cell_type": "code",
      "execution_count": null,
      "metadata": {
        "colab": {
          "background_save": true
        },
        "id": "Nm6t2_xGLxe9"
      },
      "outputs": [],
      "source": [
        "dataset = dataset.drop(\"CustomerID\", axis=1)"
      ]
    },
    {
      "cell_type": "code",
      "execution_count": null,
      "metadata": {
        "colab": {
          "background_save": true
        },
        "id": "6gJ9v7-MhETn",
        "outputId": "562c444b-665d-42b6-de3e-cda9b543491a"
      },
      "outputs": [
        {
          "data": {
            "text/plain": [
              "Gender                       2\n",
              "Age                        100\n",
              "Annual Income ($)         1786\n",
              "Spending Score (1-100)     101\n",
              "Profession                  10\n",
              "Work Experience             18\n",
              "Family Size                  9\n",
              "dtype: int64"
            ]
          },
          "execution_count": 25,
          "metadata": {},
          "output_type": "execute_result"
        }
      ],
      "source": [
        "dataset.apply(lambda col: len(col.unique()))"
      ]
    },
    {
      "cell_type": "markdown",
      "source": [
        "## Exploratory Data Analysis (EDA)\n",
        "Exploring the data helps us understand the distribution of features and relationships between them. Here are some EDA snippets:"
      ],
      "metadata": {
        "id": "AcHB3d0eKMb1"
      }
    },
    {
      "cell_type": "code",
      "execution_count": null,
      "metadata": {
        "colab": {
          "background_save": true
        },
        "id": "6yc8GhzJANJD",
        "outputId": "797bd963-fea3-4ad9-aba9-0d62e2eb83ba"
      },
      "outputs": [
        {
          "data": {
            "image/png": "[encoded data removed]",
            "text/plain": [
              "<Figure size 640x480 with 1 Axes>"
            ]
          },
          "metadata": {},
          "output_type": "display_data"
        }
      ],
      "source": [
        "plt.hist(dataset[\"Annual Income ($)\"], bins=20)\n",
        "plt.show()"
      ]
    },
    {
      "cell_type": "code",
      "execution_count": null,
      "metadata": {
        "colab": {
          "background_save": true
        },
        "id": "85LLhZRBjOAU"
      },
      "outputs": [],
      "source": [
        "X, y = dataset.drop(\"Spending Score (1-100)\", axis=1), dataset[\"Spending Score (1-100)\"]"
      ]
    },
    {
      "cell_type": "code",
      "execution_count": null,
      "metadata": {
        "colab": {
          "background_save": true
        },
        "id": "NOaiI82YFW7Z"
      },
      "outputs": [],
      "source": [
        "X[\"Income_by_Experience\"] = X[\"Annual Income ($)\"] / (X[\"Work Experience\"] + 1e-10)\n",
        "X[\"Experience_per_member\"] = X[\"Work Experience\"] / (X[\"Family Size\"] + 1e-10)\n",
        "X[\"Income_per_member\"] = X[\"Annual Income ($)\"] / (X[\"Family Size\"] + 1e-10)\n",
        "X[\"Experience_by_age\"] = X[\"Work Experience\"] / (X[\"Age\"] + 1e-10)\n",
        "X[\"Age_by_family\"] = X[\"Age\"] / (X[\"Family Size\"] + 1e-10)\n",
        "X[\"Income_by_age\"] = X[\"Annual Income ($)\"] / (X[\"Age\"] + 1e-10)"
      ]
    },
    {
      "cell_type": "code",
      "execution_count": null,
      "metadata": {
        "colab": {
          "background_save": true
        },
        "id": "kJBaVcrXjgxn"
      },
      "outputs": [],
      "source": [
        "X_train, X_test, y_train, y_test = train_test_split(X, y, test_size=0.2, random_state=42)"
      ]
    },
    {
      "cell_type": "markdown",
      "source": [
        "## Data Visualization"
      ],
      "metadata": {
        "id": "njUpQgpiKWAV"
      }
    },
    {
      "cell_type": "code",
      "execution_count": null,
      "metadata": {
        "colab": {
          "background_save": true
        },
        "id": "1hO3mCwF2nuT",
        "outputId": "4a3a7fcc-f1bf-4ccf-8352-88b39f249115"
      },
      "outputs": [
        {
          "data": {
            "text/plain": [
              "<seaborn.axisgrid.FacetGrid at 0x7e9e4e145690>"
            ]
          },
          "execution_count": 30,
          "metadata": {},
          "output_type": "execute_result"
        },
        {
          "data": {
            "image/png": "[encoded data removed]",
            "text/plain": [
              "<Figure size 500x500 with 1 Axes>"
            ]
          },
          "metadata": {},
          "output_type": "display_data"
        }
      ],
      "source": [
        "sns.displot(y_train, kde=True)"
      ]
    },
    {
      "cell_type": "code",
      "execution_count": null,
      "metadata": {
        "id": "IV1M9QTGQevC"
      },
      "outputs": [],
      "source": [
        "num_columns = X_train.select_dtypes(include=['int', 'float']).columns\n",
        "\n",
        "for col in X_train.columns:\n",
        "\n",
        "    if col in num_columns:\n",
        "        sns.displot(X_train, x=col, kde=True)\n",
        "\n",
        "    else:\n",
        "        sns.countplot(X_train, x=col)"
      ]
    },
    {
      "cell_type": "code",
      "execution_count": null,
      "metadata": {
        "id": "-dah2ZUyRu-Y"
      },
      "outputs": [],
      "source": [
        "corr = X_train.corr()\n",
        "\n",
        "mask = np.triu(np.ones_like(corr, dtype=bool))\n",
        "cmap = sns.diverging_palette(220, 20, as_cmap=True)\n",
        "\n",
        "sns.heatmap(corr, mask=mask, cmap=cmap,\n",
        "            annot=True, fmt='.1%',\n",
        "            cbar=True, cbar_kws={'shrink':0.5})"
      ]
    },
    {
      "cell_type": "code",
      "execution_count": null,
      "metadata": {
        "id": "QyRHlhxGV2Yu"
      },
      "outputs": [],
      "source": [
        "sns.pairplot(X_train, hue=\"Gender\")"
      ]
    },
    {
      "cell_type": "code",
      "execution_count": null,
      "metadata": {
        "id": "kl0wNV7DWS7D"
      },
      "outputs": [],
      "source": [
        "sns.pairplot(X_train, hue=\"Profession\")"
      ]
    },
    {
      "cell_type": "code",
      "execution_count": null,
      "metadata": {
        "id": "ai9gEnvSWj28"
      },
      "outputs": [],
      "source": [
        "sns.scatterplot(X_train, x=\"Annual Income ($)\", y=\"Work Experience\")"
      ]
    },
    {
      "cell_type": "code",
      "execution_count": null,
      "metadata": {
        "id": "CYF7BBGTXzUW"
      },
      "outputs": [],
      "source": [
        "corr = X_train.corr()\n",
        "\n",
        "mask = np.triu(np.ones_like(corr, dtype=bool))\n",
        "cmap = sns.diverging_palette(220, 20, as_cmap=True)\n",
        "\n",
        "sns.heatmap(corr, mask=mask, cmap=cmap,\n",
        "            annot=True, fmt='.1%',\n",
        "            cbar=True, cbar_kws={'shrink':0.5})"
      ]
    },
    {
      "cell_type": "code",
      "execution_count": null,
      "metadata": {
        "id": "hb4NtcavmNLB"
      },
      "outputs": [],
      "source": [
        "def clean_data(df):\n",
        "\n",
        "    encoder = LabelEncoder ()\n",
        "    imputer = SimpleImputer (strategy=\"most_frequent\")\n",
        "    df[\"Gender\"] = df[\"Gender\"].replace({'Male':0, 'Female':1})\n",
        "    df['Profession'] = encoder.fit_transform(df['Profession'])\n",
        "    df = imputer.fit_transform(df)\n",
        "\n",
        "    return df"
      ]
    },
    {
      "cell_type": "code",
      "execution_count": null,
      "metadata": {
        "id": "MlQ6BoigQPI8"
      },
      "outputs": [],
      "source": [
        "X_train = clean_data(X_train)\n",
        "X_test = clean_data(X_test)"
      ]
    },
    {
      "cell_type": "markdown",
      "source": [
        "## Machine Learning Models\n",
        "We will build and evaluate several machine learning models for spending prediction:\n",
        "\n",
        "* Support Vector Machine (SVM)\n",
        "* Extra Trees Regressor\n",
        "* AdaBoost Regressor\n",
        "* XGBoost Regressor\n",
        "* LightGBM Regressor\n",
        "\n",
        "<br/>\n",
        "Here's a snippet of the model building process:"
      ],
      "metadata": {
        "id": "PSqfY-QSKaAS"
      }
    },
    {
      "cell_type": "code",
      "execution_count": null,
      "metadata": {
        "id": "F6pCwz0vZz1a"
      },
      "outputs": [],
      "source": [
        "from sklearn.ensemble import RandomForestRegressor\n",
        "\n",
        "rnd = RandomForestRegressor ( random_state=42)\n",
        "rnd.fit(X_train, y_train)"
      ]
    },
    {
      "cell_type": "code",
      "execution_count": null,
      "metadata": {
        "id": "hGIWJd0gLDpX"
      },
      "outputs": [],
      "source": [
        "pd.DataFrame({'Features':X.columns, 'Importance':rnd.feature_importances_}).sort_values(by='Importance', ascending=False)"
      ]
    },
    {
      "cell_type": "code",
      "execution_count": null,
      "metadata": {
        "id": "0LusaxHjYKl2"
      },
      "outputs": [],
      "source": [
        "from sklearn.svm import SVR\n",
        "from sklearn.ensemble import ExtraTreesRegressor\n",
        "from sklearn.ensemble import AdaBoostRegressor\n",
        "from xgboost import XGBRegressor\n",
        "import lightgbm\n",
        "from sklearn.model_selection import GridSearchCV"
      ]
    },
    {
      "cell_type": "code",
      "execution_count": null,
      "metadata": {
        "colab": {
          "base_uri": "https://localhost:8080/"
        },
        "id": "GjUe5tyaFBL6",
        "outputId": "c142a7d6-f797-481f-b587-525c3b4c5241"
      },
      "outputs": [
        {
          "name": "stdout",
          "output_type": "stream",
          "text": [
            "SVM Accuracy : 0.017494531771197554\n"
          ]
        }
      ],
      "source": [
        "svm = SVR (C=0.01)\n",
        "svm.fit(X_train, y_train)\n",
        "y_svm = svm.predict(X_test)\n",
        "svm_ = sqrt(mean_squared_error(y_test, y_svm))\n",
        "print(f\"SVM loss : {svm_}\")"
      ]
    },
    {
      "cell_type": "code",
      "execution_count": null,
      "metadata": {
        "colab": {
          "base_uri": "https://localhost:8080/"
        },
        "id": "NTAuZgHxPbK_",
        "outputId": "c5392cb2-3701-45a5-9444-d2f50c222acf"
      },
      "outputs": [
        {
          "name": "stdout",
          "output_type": "stream",
          "text": [
            "Extra Trees Regressor Accuracy : 26.78293743301861\n"
          ]
        }
      ],
      "source": [
        "ext = ExtraTreesRegressor (max_depth = 5, random_state=42)\n",
        "ext.fit(X_train, y_train)\n",
        "y_ext = ext.predict(X_test)\n",
        "ext_ = sqrt(mean_squared_error(y_test, y_ext))\n",
        "print(f\"SVM loss : {ext_}\")"
      ]
    },
    {
      "cell_type": "code",
      "execution_count": null,
      "metadata": {
        "colab": {
          "base_uri": "https://localhost:8080/"
        },
        "id": "-gKrROcDRB8D",
        "outputId": "b7185e93-7b0b-476b-9c2e-3658b0dfa5cd"
      },
      "outputs": [
        {
          "name": "stdout",
          "output_type": "stream",
          "text": [
            "AdaBoost Accuracy : 27.474331687349252\n"
          ]
        }
      ],
      "source": [
        "ada = AdaBoostRegressor ()\n",
        "ada.fit(X_train, y_train)\n",
        "y_ada = ada.predict(X_test)\n",
        "ada_ = sqrt(mean_squared_error(y_test, y_ada))\n",
        "print(f\"AdaBoost loss : {ada_}\")"
      ]
    },
    {
      "cell_type": "code",
      "execution_count": null,
      "metadata": {
        "colab": {
          "base_uri": "https://localhost:8080/"
        },
        "id": "YDr1ud4bRw7b",
        "outputId": "044d801a-2d42-4ec8-95ea-e0b44856196c"
      },
      "outputs": [
        {
          "name": "stdout",
          "output_type": "stream",
          "text": [
            "XGBoost Accuracy : 21.904487921152384\n"
          ]
        }
      ],
      "source": [
        "xgb = XGBRegressor (eta=0.1, max_depth=4, n_jobs=-1, random_state=42)\n",
        "xgb.fit(X_train, y_train)\n",
        "y_xgb = xgb.predict(X_test)\n",
        "xgb_ = sqrt(mean_squared_error(y_train, y_xgb))\n",
        "print(f\"XGBoost loss : {xgb_}\")"
      ]
    },
    {
      "cell_type": "code",
      "execution_count": null,
      "metadata": {
        "colab": {
          "base_uri": "https://localhost:8080/"
        },
        "id": "kjOaFz2RTWyq",
        "outputId": "9cd1421d-812f-47ad-b675-1fa95c182084"
      },
      "outputs": [
        {
          "name": "stdout",
          "output_type": "stream",
          "text": [
            "LGBoost Accuracy : 15.785272896430286\n"
          ]
        }
      ],
      "source": [
        "lgb = lightgbm.LGBMRegressor (objective='regression', n_jobs=-1, random_state=42)\n",
        "lgb.fit(X_train, y_train)\n",
        "y_lgb = lgb.predict(X_test)\n",
        "lgb_ = sqrt(mean_squared_error(y_train, y_lgb))\n",
        "print(f\"LGBoost loss : {lgb_}\")"
      ]
    },
    {
      "cell_type": "markdown",
      "source": [
        "### Stacking Models\n",
        "The key focus of this project is on stacking models. Stacking is an ensemble learning technique that combines predictions from multiple models to achieve better predictive performance. The code demonstrates stacking by training a Random Forest Regressor on the predictions of the individual models (SVM, Extra Trees, AdaBoost, XGBoost, LightGBM)."
      ],
      "metadata": {
        "id": "N7IWmx1LLSoX"
      }
    },
    {
      "cell_type": "code",
      "execution_count": null,
      "metadata": {
        "id": "b94W3F32iUli"
      },
      "outputs": [],
      "source": [
        "train_estimators = [y_val_svm, y_val_ext, y_val_ada, y_val_xgb, y_val_lgb]\n",
        "test_estimators = [y_svm, y_ext, y_ada, y_xgb, y_lgb]"
      ]
    },
    {
      "cell_type": "code",
      "execution_count": null,
      "metadata": {
        "id": "Rqw3qa9wU9on"
      },
      "outputs": [],
      "source": [
        "y_train_data = np.stack(train_estimators, 1)\n",
        "y_test_data = np.stack(test_estimators, 1)"
      ]
    },
    {
      "cell_type": "code",
      "execution_count": null,
      "metadata": {
        "colab": {
          "base_uri": "https://localhost:8080/",
          "height": 75
        },
        "id": "bmUcZ0gPjHd0",
        "outputId": "a2158f53-3000-4083-b2c7-87b904aca060"
      },
      "outputs": [
        {
          "data": {
            "text/html": [
              "<style>#sk-container-id-7 {color: black;background-color: white;}#sk-container-id-7 pre{padding: 0;}#sk-container-id-7 div.sk-toggleable {background-color: white;}#sk-container-id-7 label.sk-toggleable__label {cursor: pointer;display: block;width: 100%;margin-bottom: 0;padding: 0.3em;box-sizing: border-box;text-align: center;}#sk-container-id-7 label.sk-toggleable__label-arrow:before {content: \"▸\";float: left;margin-right: 0.25em;color: #696969;}#sk-container-id-7 label.sk-toggleable__label-arrow:hover:before {color: black;}#sk-container-id-7 div.sk-estimator:hover label.sk-toggleable__label-arrow:before {color: black;}#sk-container-id-7 div.sk-toggleable__content {max-height: 0;max-width: 0;overflow: hidden;text-align: left;background-color: #f0f8ff;}#sk-container-id-7 div.sk-toggleable__content pre {margin: 0.2em;color: black;border-radius: 0.25em;background-color: #f0f8ff;}#sk-container-id-7 input.sk-toggleable__control:checked~div.sk-toggleable__content {max-height: 200px;max-width: 100%;overflow: auto;}#sk-container-id-7 input.sk-toggleable__control:checked~label.sk-toggleable__label-arrow:before {content: \"▾\";}#sk-container-id-7 div.sk-estimator input.sk-toggleable__control:checked~label.sk-toggleable__label {background-color: #d4ebff;}#sk-container-id-7 div.sk-label input.sk-toggleable__control:checked~label.sk-toggleable__label {background-color: #d4ebff;}#sk-container-id-7 input.sk-hidden--visually {border: 0;clip: rect(1px 1px 1px 1px);clip: rect(1px, 1px, 1px, 1px);height: 1px;margin: -1px;overflow: hidden;padding: 0;position: absolute;width: 1px;}#sk-container-id-7 div.sk-estimator {font-family: monospace;background-color: #f0f8ff;border: 1px dotted black;border-radius: 0.25em;box-sizing: border-box;margin-bottom: 0.5em;}#sk-container-id-7 div.sk-estimator:hover {background-color: #d4ebff;}#sk-container-id-7 div.sk-parallel-item::after {content: \"\";width: 100%;border-bottom: 1px solid gray;flex-grow: 1;}#sk-container-id-7 div.sk-label:hover label.sk-toggleable__label {background-color: #d4ebff;}#sk-container-id-7 div.sk-serial::before {content: \"\";position: absolute;border-left: 1px solid gray;box-sizing: border-box;top: 0;bottom: 0;left: 50%;z-index: 0;}#sk-container-id-7 div.sk-serial {display: flex;flex-direction: column;align-items: center;background-color: white;padding-right: 0.2em;padding-left: 0.2em;position: relative;}#sk-container-id-7 div.sk-item {position: relative;z-index: 1;}#sk-container-id-7 div.sk-parallel {display: flex;align-items: stretch;justify-content: center;background-color: white;position: relative;}#sk-container-id-7 div.sk-item::before, #sk-container-id-7 div.sk-parallel-item::before {content: \"\";position: absolute;border-left: 1px solid gray;box-sizing: border-box;top: 0;bottom: 0;left: 50%;z-index: -1;}#sk-container-id-7 div.sk-parallel-item {display: flex;flex-direction: column;z-index: 1;position: relative;background-color: white;}#sk-container-id-7 div.sk-parallel-item:first-child::after {align-self: flex-end;width: 50%;}#sk-container-id-7 div.sk-parallel-item:last-child::after {align-self: flex-start;width: 50%;}#sk-container-id-7 div.sk-parallel-item:only-child::after {width: 0;}#sk-container-id-7 div.sk-dashed-wrapped {border: 1px dashed gray;margin: 0 0.4em 0.5em 0.4em;box-sizing: border-box;padding-bottom: 0.4em;background-color: white;}#sk-container-id-7 div.sk-label label {font-family: monospace;font-weight: bold;display: inline-block;line-height: 1.2em;}#sk-container-id-7 div.sk-label-container {text-align: center;}#sk-container-id-7 div.sk-container {/* jupyter's `normalize.less` sets `[hidden] { display: none; }` but bootstrap.min.css set `[hidden] { display: none !important; }` so we also need the `!important` here to be able to override the default hidden behavior on the sphinx rendered scikit-learn.org. See: https://github.com/scikit-learn/scikit-learn/issues/21755 */display: inline-block !important;position: relative;}#sk-container-id-7 div.sk-text-repr-fallback {display: none;}</style><div id=\"sk-container-id-7\" class=\"sk-top-container\"><div class=\"sk-text-repr-fallback\"><pre>RandomForestRegressor()</pre><b>In a Jupyter environment, please rerun this cell to show the HTML representation or trust the notebook. <br />On GitHub, the HTML representation is unable to render, please try loading this page with nbviewer.org.</b></div><div class=\"sk-container\" hidden><div class=\"sk-item\"><div class=\"sk-estimator sk-toggleable\"><input class=\"sk-toggleable__control sk-hidden--visually\" id=\"sk-estimator-id-7\" type=\"checkbox\" checked><label for=\"sk-estimator-id-7\" class=\"sk-toggleable__label sk-toggleable__label-arrow\">RandomForestRegressor</label><div class=\"sk-toggleable__content\"><pre>RandomForestRegressor()</pre></div></div></div></div></div>"
            ],
            "text/plain": [
              "RandomForestRegressor()"
            ]
          },
          "execution_count": 136,
          "metadata": {},
          "output_type": "execute_result"
        }
      ],
      "source": [
        "stack_rnd = RandomForestRegressor ()\n",
        "stack_rnd.fit(y_train_data, y_train)"
      ]
    },
    {
      "cell_type": "markdown",
      "source": [
        "## Model Evaluation\n",
        "Finally, we evaluate our models using the root mean squared error (RMSE) and visualize the results. The final accuracy of the stacked model is calculated as well."
      ],
      "metadata": {
        "id": "1MPlANyeK0Et"
      }
    },
    {
      "cell_type": "code",
      "execution_count": null,
      "metadata": {
        "colab": {
          "base_uri": "https://localhost:8080/"
        },
        "id": "9PjyBD6AjolI",
        "outputId": "7b75d361-4ea9-4e6c-d4ac-c7acf3e103f7"
      },
      "outputs": [
        {
          "name": "stdout",
          "output_type": "stream",
          "text": [
            "Final Accuracy of Stacked model : 0.08501357963216818\n"
          ]
        }
      ],
      "source": [
        "y_final = stack_rnd.predict(y_test_data)\n",
        "final_accuracy = sqrt(mean_squared_error(y_test, y_final))\n",
        "print(f\"Final Loss of Stacked model : {final_accuracy/y_test.shape[0]}\")"
      ]
    }
  ],
  "metadata": {
    "colab": {
      "provenance": []
    },
    "kernelspec": {
      "display_name": "Python 3",
      "name": "python3"
    },
    "language_info": {
      "name": "python"
    }
  },
  "nbformat": 4,
  "nbformat_minor": 0
}